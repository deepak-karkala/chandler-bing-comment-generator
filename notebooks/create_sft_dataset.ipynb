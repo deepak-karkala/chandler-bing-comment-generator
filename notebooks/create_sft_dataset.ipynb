{
 "cells": [
  {
   "cell_type": "code",
   "execution_count": 1,
   "metadata": {},
   "outputs": [],
   "source": [
    "import pandas as pd\n",
    "import json\n",
    "from tqdm import tqdm"
   ]
  },
  {
   "cell_type": "code",
   "execution_count": 2,
   "metadata": {},
   "outputs": [],
   "source": [
    "dataset_path = \"../datasets/friends/\"\n",
    "batch_output_files = [dataset_path + \"batch_output_friends_part1.jsonl\",\n",
    "                     dataset_path + \"batch_output_friends_part2.jsonl\"]"
   ]
  },
  {
   "cell_type": "code",
   "execution_count": 3,
   "metadata": {},
   "outputs": [
    {
     "data": {
      "text/html": [
       "<div>\n",
       "<style scoped>\n",
       "    .dataframe tbody tr th:only-of-type {\n",
       "        vertical-align: middle;\n",
       "    }\n",
       "\n",
       "    .dataframe tbody tr th {\n",
       "        vertical-align: top;\n",
       "    }\n",
       "\n",
       "    .dataframe thead th {\n",
       "        text-align: right;\n",
       "    }\n",
       "</style>\n",
       "<table border=\"1\" class=\"dataframe\">\n",
       "  <thead>\n",
       "    <tr style=\"text-align: right;\">\n",
       "      <th></th>\n",
       "      <th>custom_id</th>\n",
       "      <th>error</th>\n",
       "      <th>id</th>\n",
       "      <th>response</th>\n",
       "    </tr>\n",
       "  </thead>\n",
       "  <tbody>\n",
       "    <tr>\n",
       "      <th>0</th>\n",
       "      <td>request-0</td>\n",
       "      <td>NaN</td>\n",
       "      <td>batch_req_67b5d395a6348190ab84388e1f4be824</td>\n",
       "      <td>{'status_code': 200, 'request_id': '3c9a2177c3...</td>\n",
       "    </tr>\n",
       "    <tr>\n",
       "      <th>1</th>\n",
       "      <td>request-1</td>\n",
       "      <td>NaN</td>\n",
       "      <td>batch_req_67b5d395b7a481909747942b1cd53521</td>\n",
       "      <td>{'status_code': 200, 'request_id': '6b4949a804...</td>\n",
       "    </tr>\n",
       "  </tbody>\n",
       "</table>\n",
       "</div>"
      ],
      "text/plain": [
       "   custom_id  error                                          id  \\\n",
       "0  request-0    NaN  batch_req_67b5d395a6348190ab84388e1f4be824   \n",
       "1  request-1    NaN  batch_req_67b5d395b7a481909747942b1cd53521   \n",
       "\n",
       "                                            response  \n",
       "0  {'status_code': 200, 'request_id': '3c9a2177c3...  \n",
       "1  {'status_code': 200, 'request_id': '6b4949a804...  "
      ]
     },
     "execution_count": 3,
     "metadata": {},
     "output_type": "execute_result"
    }
   ],
   "source": [
    "df = pd.DataFrame()\n",
    "for file in batch_output_files:\n",
    "    dff = pd.read_json(file, lines=True)\n",
    "    df = pd.concat([df, dff], ignore_index=True, sort=False)\n",
    "df.head(2)"
   ]
  },
  {
   "cell_type": "code",
   "execution_count": 4,
   "metadata": {},
   "outputs": [
    {
     "data": {
      "text/plain": [
       "'Number of Chandler dialogues: 7488'"
      ]
     },
     "execution_count": 4,
     "metadata": {},
     "output_type": "execute_result"
    }
   ],
   "source": [
    "f\"Number of Chandler dialogues: {len(df)}\""
   ]
  },
  {
   "cell_type": "code",
   "execution_count": 5,
   "metadata": {},
   "outputs": [
    {
     "name": "stdout",
     "output_type": "stream",
     "text": [
      "617\n",
      "1039\n",
      "1227\n",
      "2411\n",
      "2611\n",
      "3321\n",
      "3477\n",
      "3854\n",
      "4510\n",
      "4801\n",
      "5085\n",
      "5639\n",
      "5945\n",
      "6058\n",
      "6477\n",
      "6836\n",
      "6871\n",
      "6979\n",
      "7073\n",
      "7202\n"
     ]
    },
    {
     "data": {
      "text/html": [
       "<div>\n",
       "<style scoped>\n",
       "    .dataframe tbody tr th:only-of-type {\n",
       "        vertical-align: middle;\n",
       "    }\n",
       "\n",
       "    .dataframe tbody tr th {\n",
       "        vertical-align: top;\n",
       "    }\n",
       "\n",
       "    .dataframe thead th {\n",
       "        text-align: right;\n",
       "    }\n",
       "</style>\n",
       "<table border=\"1\" class=\"dataframe\">\n",
       "  <thead>\n",
       "    <tr style=\"text-align: right;\">\n",
       "      <th></th>\n",
       "      <th>context</th>\n",
       "      <th>dialog</th>\n",
       "    </tr>\n",
       "  </thead>\n",
       "  <tbody>\n",
       "    <tr>\n",
       "      <th>0</th>\n",
       "      <td>Someone is downplaying their romantic involvem...</td>\n",
       "      <td>Oh sure, because dating a guy from work is lik...</td>\n",
       "    </tr>\n",
       "    <tr>\n",
       "      <th>1</th>\n",
       "      <td>There's a conversation among friends where one...</td>\n",
       "      <td>Could we be any more clear that it's not a dat...</td>\n",
       "    </tr>\n",
       "  </tbody>\n",
       "</table>\n",
       "</div>"
      ],
      "text/plain": [
       "                                             context  \\\n",
       "0  Someone is downplaying their romantic involvem...   \n",
       "1  There's a conversation among friends where one...   \n",
       "\n",
       "                                              dialog  \n",
       "0  Oh sure, because dating a guy from work is lik...  \n",
       "1  Could we be any more clear that it's not a dat...  "
      ]
     },
     "execution_count": 5,
     "metadata": {},
     "output_type": "execute_result"
    }
   ],
   "source": [
    "from json import JSONDecodeError\n",
    "\n",
    "dfo = pd.DataFrame(columns=[\"context\", \"dialog\"])\n",
    "num_misformatted_outputs = 0\n",
    "\n",
    "for idx in range(len(df)):\n",
    "    response_str = df.iloc[idx][\"response\"][\"body\"][\"choices\"][0][\"message\"][\"content\"]\n",
    "    request_id = int(df.iloc[idx][\"custom_id\"].split(\"request-\")[1])\n",
    "    try:\n",
    "        response_json = json.loads(response_str)\n",
    "        keys = [key for key in response_json]\n",
    "        context = response_json[keys[0]]\n",
    "        dialog = response_json[keys[1]]\n",
    "\n",
    "    except JSONDecodeError:\n",
    "        num_misformatted_outputs += 1\n",
    "        context = None\n",
    "        dialog = None\n",
    "        print(idx)\n",
    "    \n",
    "    dfo.loc[request_id] = [context, dialog]\n",
    "    \n",
    "\n",
    "dfo.head(2)"
   ]
  },
  {
   "cell_type": "markdown",
   "metadata": {},
   "source": [
    "### Removing entries with invalid LLM replies"
   ]
  },
  {
   "cell_type": "code",
   "execution_count": 6,
   "metadata": {},
   "outputs": [
    {
     "name": "stdout",
     "output_type": "stream",
     "text": [
      "Total number of Chandler dialogues: 7488\n",
      "Number of Chandler dialogues after removing invalid LLM replies: 7468\n"
     ]
    }
   ],
   "source": [
    "print(f\"Total number of Chandler dialogues: {len(dfo)}\")\n",
    "dfo.dropna(axis=0, inplace=True)\n",
    "print(f\"Number of Chandler dialogues after removing invalid LLM replies: {len(dfo)}\")"
   ]
  },
  {
   "cell_type": "markdown",
   "metadata": {},
   "source": [
    "### Use some of funniest dialogues as examples in few shot prompts"
   ]
  },
  {
   "cell_type": "code",
   "execution_count": 8,
   "metadata": {},
   "outputs": [],
   "source": [
    "few_shot_prompts = [\n",
    "    {\n",
    "        \"USER\": \"A character is grappling with the aftermath of a breakup and is hesitant to contact their ex due to unresolved feelings and the way things ended. Another character expresses concern about their evolving friendship with a mutual friend, fearing the relationship may worsen rather than improve.\",\n",
    "        \"ASSISTANT\": \"I'm not great at the advice. Can I interest you in a sarcastic comment?\"\n",
    "    },\n",
    "    {\n",
    "        \"USER\": \"A pair of friends is having an emotional moment about their lives and future. One expresses how little he had before meeting the other. However, the moment turns slightly awkward as an ex-boyfriend unexpectedly enters the scene, prompting confusion and light-hearted banter about past relationships and physical appearances.\",\n",
    "        \"ASSISTANT\": \"Hi, I'm Chandler, I make jokes when I'm uncomfortable.\"\n",
    "    },\n",
    "    {\n",
    "        \"USER\": \"A friend says he had been to tanning salon and ended up getting badly tanned due to communication gap.\",\n",
    "        \"ASSISTANT\": \"Was That Place The Sun?\"\n",
    "    },\n",
    "    {\n",
    "        \"USER\": \"I am a gym member but I never find time to go to the gym\",\n",
    "        \"ASSISTANT\": \"Oh yeah, gym member. I try to go four times a week, but I've missed the last 1200 times\"\n",
    "    },\n",
    "    {\n",
    "        \"USER\": \"A couple is excitedly discussing their upcoming wedding in four weeks. One partner is enthusiastic, while the other uses humor to deflect some of the seriousness of the preparations. There's a conversation about wedding vows, with one partner joking about buying vows instead of writing them, while the other expresses a sense of urgency and seriousness about the wedding plans.\",\n",
    "        \"ASSISTANT\": \"Look at her go! She must love me more than I love her! What's wrong with me? Ooh, don't open that door\"\n",
    "    },\n",
    "    {\n",
    "        \"USER\": \"A friends asks me how am I after I ended up getting up very drunk and don't remember anything from last night.\",\n",
    "        \"ASSISTANT\": \"My Apartment Isn’t There Anymore, Because I Drank It\"\n",
    "    },\n",
    "    {\n",
    "        \"USER\": \"A friend expresses anxiety over being looking obese on TV and defends that camera adds weight\",\n",
    "        \"ASSISTANT\": \"Ahh, so how many cameras are actually on you?\"\n",
    "    }\n",
    "]"
   ]
  },
  {
   "cell_type": "code",
   "execution_count": 13,
   "metadata": {},
   "outputs": [],
   "source": [
    "content_system_with_few_shots_prompts = \"\"\"\n",
    "    You are an expert and highly accomplished TV sitcom writer specialised in writing funny, sarcastic dialogues.\n",
    "    You will be given a context summarizing a situation.\n",
    "    Given this context, your task is to reply with a humorous sitcom like dialog in response to that context,\n",
    "    most importantly, the dialog should be in the style of Chandler Bing, a funny lead character from the very popular 90s TV sitcom FRIENDS.\n",
    "    Keep in mind that Chandler Bing’s humor is marked by a unique blend of sarcasm, self-deprecation, and quick wit.\n",
    "    He tends to make jokes that deflect serious or emotional moments, often using his dry, sarcastic tone.\n",
    "    His style is heavily reliant on irony, often delivering punchlines that are deliberately over-the-top or nonsensical.\n",
    "    His most famous catch phrase is 'Could I be anymore...', do not use this excessively, use it sparingly.\n",
    "\"\"\" \n",
    "content_system_with_few_shots_prompts = content_system_with_few_shots_prompts.replace(\"\\n\", \"\").replace(\"  \", \"\").replace(\".\", \". \").rstrip()\n",
    "content_system_with_few_shots_prompts += \"\\n\\nFollowing are few examples of pairs of context and Chandler Bing's dialog in reply to that.\\n\"\n",
    "\n",
    "for i in range(len(few_shot_prompts)):\n",
    "    content_system_with_few_shots_prompts += \"\\n\"\n",
    "    content_system_with_few_shots_prompts += f\"USER: {few_shot_prompts[i]['USER']}\"\n",
    "    content_system_with_few_shots_prompts += \"\\n\"\n",
    "    content_system_with_few_shots_prompts += f\"ASSISTANT: {few_shot_prompts[i]['ASSISTANT']}\"\n",
    "    content_system_with_few_shots_prompts += \"\\n\"\n",
    "    "
   ]
  },
  {
   "cell_type": "code",
   "execution_count": 14,
   "metadata": {},
   "outputs": [
    {
     "name": "stdout",
     "output_type": "stream",
     "text": [
      "You are an expert and highly accomplished TV sitcom writer specialised in writing funny, sarcastic dialogues. You will be given a context summarizing a situation. Given this context, your task is to reply with a humorous sitcom like dialog in response to that context,most importantly, the dialog should be in the style of Chandler Bing, a funny lead character from the very popular 90s TV sitcom FRIENDS. Keep in mind that Chandler Bing’s humor is marked by a unique blend of sarcasm, self-deprecation, and quick wit. He tends to make jokes that deflect serious or emotional moments, often using his dry, sarcastic tone. His style is heavily reliant on irony, often delivering punchlines that are deliberately over-the-top or nonsensical. His most famous catch phrase is 'Could I be anymore. . . ', do not use this excessively, use it sparingly.\n",
      "\n",
      "Following are few examples of pairs of context and Chandler Bing's dialog in reply to that.\n",
      "\n",
      "USER: A character is grappling with the aftermath of a breakup and is hesitant to contact their ex due to unresolved feelings and the way things ended. Another character expresses concern about their evolving friendship with a mutual friend, fearing the relationship may worsen rather than improve.\n",
      "ASSISTANT: I'm not great at the advice. Can I interest you in a sarcastic comment?\n",
      "\n",
      "USER: A pair of friends is having an emotional moment about their lives and future. One expresses how little he had before meeting the other. However, the moment turns slightly awkward as an ex-boyfriend unexpectedly enters the scene, prompting confusion and light-hearted banter about past relationships and physical appearances.\n",
      "ASSISTANT: Hi, I'm Chandler, I make jokes when I'm uncomfortable.\n",
      "\n",
      "USER: A friend says he had been to tanning salon and ended up getting badly tanned due to communication gap.\n",
      "ASSISTANT: Was That Place The Sun?\n",
      "\n",
      "USER: I am a gym member but I never find time to go to the gym\n",
      "ASSISTANT: Oh yeah, gym member. I try to go four times a week, but I've missed the last 1200 times\n",
      "\n",
      "USER: A couple is excitedly discussing their upcoming wedding in four weeks. One partner is enthusiastic, while the other uses humor to deflect some of the seriousness of the preparations. There's a conversation about wedding vows, with one partner joking about buying vows instead of writing them, while the other expresses a sense of urgency and seriousness about the wedding plans.\n",
      "ASSISTANT: Look at her go! She must love me more than I love her! What's wrong with me? Ooh, don't open that door\n",
      "\n",
      "USER: A friends asks me how am I after I ended up getting up very drunk and don't remember anything from last night.\n",
      "ASSISTANT: My Apartment Isn’t There Anymore, Because I Drank It\n",
      "\n",
      "USER: A friend expresses anxiety over being looking obese on TV and defends that camera adds weight\n",
      "ASSISTANT: Ahh, so how many cameras are actually on you?\n",
      "\n"
     ]
    }
   ],
   "source": [
    "print(content_system_with_few_shots_prompts)"
   ]
  },
  {
   "cell_type": "code",
   "execution_count": null,
   "metadata": {},
   "outputs": [],
   "source": []
  },
  {
   "cell_type": "code",
   "execution_count": 23,
   "metadata": {},
   "outputs": [
    {
     "name": "stderr",
     "output_type": "stream",
     "text": [
      "100%|██████████| 7468/7468 [00:26<00:00, 285.49it/s]\n"
     ]
    }
   ],
   "source": [
    "df_sft_dpo = pd.DataFrame(columns = [\"messages\", \"prompt\", \"chosen\", \"rejected\"])\n",
    "\n",
    "content_system = \"\"\"You are an expert and highly accomplished TV sitcom writer specialised in writing funny, sarcastic dialogues.\n",
    "    You will be given a context summarizing a situation.\n",
    "    Given this context, your task is to reply with a humorous sitcom like dialog in response to that context,\n",
    "    most importantly, the dialog should be in the style of Chandler Bing, a funny lead character from the very popular 90s TV sitcom FRIENDS.\n",
    "    Keep in mind that Chandler Bing’s humor is marked by a unique blend of sarcasm, self-deprecation, and quick wit.\n",
    "    He tends to make jokes that deflect serious or emotional moments, often using his dry, sarcastic tone.\n",
    "    His style is heavily reliant on irony, often delivering punchlines that are deliberately over-the-top or nonsensical.\"\"\"\n",
    "content_system = content_system.replace(\"\\n\", \"\").replace(\"  \", \"\").replace(\".\", \". \").rstrip()\n",
    "\n",
    "    \n",
    "for idx in tqdm(range(len(dfo))):\n",
    "    \n",
    "    message_system = {}\n",
    "    #message_system[\"content\"] = []\n",
    "    #message_system[\"content\"].append({\"type\": \"text\"})\n",
    "    #message_system[\"content\"].append({\"text\": content_system})\n",
    "    message_system[\"content\"] = content_system_with_few_shots_prompts\n",
    "    message_system[\"role\"] = \"system\"\n",
    "    \n",
    "    message_user = {}\n",
    "    #message_user[\"content\"] = []\n",
    "    #message_user[\"content\"].append({\"type\": \"text\"})\n",
    "    content_user = dfo.iloc[idx][\"context\"]\n",
    "    #message_user[\"content\"].append({\"text\": content_user})\n",
    "    message_user[\"content\"] = content_user\n",
    "    message_user[\"role\"] = \"user\"\n",
    "    \n",
    "    message_assistant = {}\n",
    "    #message_assistant[\"content\"] = []\n",
    "    #message_assistant[\"content\"].append({\"type\": \"text\"})\n",
    "    content_assistant = dfo.iloc[idx][\"dialog\"]\n",
    "    #message_assistant[\"content\"].append({\"text\": content_assistant})\n",
    "    message_assistant[\"content\"] = content_assistant\n",
    "    message_assistant[\"role\"] = \"assistant\"\n",
    "    \n",
    "    messages = []\n",
    "    messages.extend([message_system, message_user, message_assistant])\n",
    "\n",
    "    prompt = []\n",
    "    prompt.extend([message_system, message_user])\n",
    "    \n",
    "    chosen = [message_assistant]\n",
    "    rejected = None\n",
    "    \n",
    "    df_sft_dpo.loc[idx] = [messages, prompt, chosen, rejected]"
   ]
  },
  {
   "cell_type": "code",
   "execution_count": 24,
   "metadata": {},
   "outputs": [
    {
     "data": {
      "text/html": [
       "<div>\n",
       "<style scoped>\n",
       "    .dataframe tbody tr th:only-of-type {\n",
       "        vertical-align: middle;\n",
       "    }\n",
       "\n",
       "    .dataframe tbody tr th {\n",
       "        vertical-align: top;\n",
       "    }\n",
       "\n",
       "    .dataframe thead th {\n",
       "        text-align: right;\n",
       "    }\n",
       "</style>\n",
       "<table border=\"1\" class=\"dataframe\">\n",
       "  <thead>\n",
       "    <tr style=\"text-align: right;\">\n",
       "      <th></th>\n",
       "      <th>messages</th>\n",
       "      <th>prompt</th>\n",
       "      <th>chosen</th>\n",
       "      <th>rejected</th>\n",
       "    </tr>\n",
       "  </thead>\n",
       "  <tbody>\n",
       "    <tr>\n",
       "      <th>0</th>\n",
       "      <td>[{'content': 'You are an expert and highly acc...</td>\n",
       "      <td>[{'content': 'You are an expert and highly acc...</td>\n",
       "      <td>[{'content': 'Oh sure, because dating a guy fr...</td>\n",
       "      <td>None</td>\n",
       "    </tr>\n",
       "    <tr>\n",
       "      <th>1</th>\n",
       "      <td>[{'content': 'You are an expert and highly acc...</td>\n",
       "      <td>[{'content': 'You are an expert and highly acc...</td>\n",
       "      <td>[{'content': 'Could we be any more clear that ...</td>\n",
       "      <td>None</td>\n",
       "    </tr>\n",
       "  </tbody>\n",
       "</table>\n",
       "</div>"
      ],
      "text/plain": [
       "                                            messages  \\\n",
       "0  [{'content': 'You are an expert and highly acc...   \n",
       "1  [{'content': 'You are an expert and highly acc...   \n",
       "\n",
       "                                              prompt  \\\n",
       "0  [{'content': 'You are an expert and highly acc...   \n",
       "1  [{'content': 'You are an expert and highly acc...   \n",
       "\n",
       "                                              chosen rejected  \n",
       "0  [{'content': 'Oh sure, because dating a guy fr...     None  \n",
       "1  [{'content': 'Could we be any more clear that ...     None  "
      ]
     },
     "execution_count": 24,
     "metadata": {},
     "output_type": "execute_result"
    }
   ],
   "source": [
    "df_sft_dpo.head(2)"
   ]
  },
  {
   "cell_type": "code",
   "execution_count": null,
   "metadata": {},
   "outputs": [],
   "source": []
  },
  {
   "cell_type": "markdown",
   "metadata": {},
   "source": [
    "### Save file and push to HF Hub"
   ]
  },
  {
   "cell_type": "code",
   "execution_count": 29,
   "metadata": {},
   "outputs": [
    {
     "name": "stdout",
     "output_type": "stream",
     "text": [
      "Requirement already satisfied: pyarrow in /Users/nesara/anaconda3/lib/python3.6/site-packages (6.0.1)\r\n",
      "Requirement already satisfied: numpy>=1.16.6 in /Users/nesara/anaconda3/lib/python3.6/site-packages (from pyarrow) (1.18.5)\r\n"
     ]
    }
   ],
   "source": [
    "!pip install pyarrow\n",
    "df_sft_dpo.to_parquet(\"../datasets/friends/dataset_sft_dpo_without_rejected.parquet\")"
   ]
  },
  {
   "cell_type": "markdown",
   "metadata": {},
   "source": [
    "### Load SFT, DPO datasets with rejected messages"
   ]
  },
  {
   "cell_type": "code",
   "execution_count": null,
   "metadata": {},
   "outputs": [],
   "source": []
  },
  {
   "cell_type": "markdown",
   "metadata": {},
   "source": [
    "### Split into train and test sets"
   ]
  },
  {
   "cell_type": "code",
   "execution_count": 71,
   "metadata": {},
   "outputs": [
    {
     "name": "stdout",
     "output_type": "stream",
     "text": [
      "Num of training samples: 6721\n",
      "Num of test samples: 747\n"
     ]
    }
   ],
   "source": [
    "from sklearn.model_selection import train_test_split\n",
    "df_sft_dpo_train, df_sft_dpo_test = train_test_split(df_sft_dpo, test_size=0.1,  shuffle=True)\n",
    "print(f\"Num of training samples: {len(df_sft_dpo_train)}\")\n",
    "print(f\"Num of test samples: {len(df_sft_dpo_test)}\")"
   ]
  },
  {
   "cell_type": "code",
   "execution_count": 78,
   "metadata": {},
   "outputs": [],
   "source": [
    "df_sft_dpo_train.reset_index(drop=True, inplace=True)\n",
    "df_sft_dpo_test.reset_index(drop=True, inplace=True)"
   ]
  },
  {
   "cell_type": "code",
   "execution_count": null,
   "metadata": {},
   "outputs": [],
   "source": []
  }
 ],
 "metadata": {
  "kernelspec": {
   "display_name": "Python 3",
   "language": "python",
   "name": "python3"
  },
  "language_info": {
   "codemirror_mode": {
    "name": "ipython",
    "version": 3
   },
   "file_extension": ".py",
   "mimetype": "text/x-python",
   "name": "python",
   "nbconvert_exporter": "python",
   "pygments_lexer": "ipython3",
   "version": "3.6.5"
  }
 },
 "nbformat": 4,
 "nbformat_minor": 2
}
