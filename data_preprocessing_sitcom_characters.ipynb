{
  "nbformat": 4,
  "nbformat_minor": 0,
  "metadata": {
    "colab": {
      "provenance": [],
      "authorship_tag": "ABX9TyPPUT3Y1rVwhwm86ZPjjO1g",
      "include_colab_link": true
    },
    "kernelspec": {
      "name": "python3",
      "display_name": "Python 3"
    },
    "language_info": {
      "name": "python"
    }
  },
  "cells": [
    {
      "cell_type": "markdown",
      "metadata": {
        "id": "view-in-github",
        "colab_type": "text"
      },
      "source": [
        "<a href=\"https://colab.research.google.com/github/deepak-karkala/chandler-bing-comment-generator/blob/main/data_preprocessing_sitcom_characters.ipynb\" target=\"_parent\"><img src=\"https://colab.research.google.com/assets/colab-badge.svg\" alt=\"Open In Colab\"/></a>"
      ]
    },
    {
      "cell_type": "markdown",
      "source": [],
      "metadata": {
        "id": "wNBNi_JaYdLX"
      }
    },
    {
      "cell_type": "code",
      "source": [
        "!pip install kaggle"
      ],
      "metadata": {
        "colab": {
          "base_uri": "https://localhost:8080/"
        },
        "id": "N4vE54rjY17d",
        "outputId": "1f5aaa18-cf85-42be-edf7-7709133d4fdb"
      },
      "execution_count": 1,
      "outputs": [
        {
          "output_type": "stream",
          "name": "stdout",
          "text": [
            "Requirement already satisfied: kaggle in /usr/local/lib/python3.11/dist-packages (1.6.17)\n",
            "Requirement already satisfied: six>=1.10 in /usr/local/lib/python3.11/dist-packages (from kaggle) (1.17.0)\n",
            "Requirement already satisfied: certifi>=2023.7.22 in /usr/local/lib/python3.11/dist-packages (from kaggle) (2025.1.31)\n",
            "Requirement already satisfied: python-dateutil in /usr/local/lib/python3.11/dist-packages (from kaggle) (2.8.2)\n",
            "Requirement already satisfied: requests in /usr/local/lib/python3.11/dist-packages (from kaggle) (2.32.3)\n",
            "Requirement already satisfied: tqdm in /usr/local/lib/python3.11/dist-packages (from kaggle) (4.67.1)\n",
            "Requirement already satisfied: python-slugify in /usr/local/lib/python3.11/dist-packages (from kaggle) (8.0.4)\n",
            "Requirement already satisfied: urllib3 in /usr/local/lib/python3.11/dist-packages (from kaggle) (2.3.0)\n",
            "Requirement already satisfied: bleach in /usr/local/lib/python3.11/dist-packages (from kaggle) (6.2.0)\n",
            "Requirement already satisfied: webencodings in /usr/local/lib/python3.11/dist-packages (from bleach->kaggle) (0.5.1)\n",
            "Requirement already satisfied: text-unidecode>=1.3 in /usr/local/lib/python3.11/dist-packages (from python-slugify->kaggle) (1.3)\n",
            "Requirement already satisfied: charset-normalizer<4,>=2 in /usr/local/lib/python3.11/dist-packages (from requests->kaggle) (3.4.1)\n",
            "Requirement already satisfied: idna<4,>=2.5 in /usr/local/lib/python3.11/dist-packages (from requests->kaggle) (3.10)\n"
          ]
        }
      ]
    },
    {
      "cell_type": "markdown",
      "source": [
        "### Load script dataset"
      ],
      "metadata": {
        "id": "fI4fll_itwnu"
      }
    },
    {
      "cell_type": "code",
      "source": [
        "!kaggle datasets download -d ryanstonebraker/friends-transcript"
      ],
      "metadata": {
        "colab": {
          "base_uri": "https://localhost:8080/"
        },
        "id": "MleDRAw6ZvMm",
        "outputId": "94a1c9a3-7dfe-491f-97a0-e1cf56a27b93"
      },
      "execution_count": 2,
      "outputs": [
        {
          "output_type": "stream",
          "name": "stdout",
          "text": [
            "Dataset URL: https://www.kaggle.com/datasets/ryanstonebraker/friends-transcript\n",
            "License(s): GPL-2.0\n",
            "Downloading friends-transcript.zip to /content\n",
            "  0% 0.00/1.72M [00:00<?, ?B/s]\n",
            "100% 1.72M/1.72M [00:00<00:00, 148MB/s]\n"
          ]
        }
      ]
    },
    {
      "cell_type": "code",
      "source": [
        "import zipfile\n",
        "with zipfile.ZipFile('friends-transcript.zip', 'r') as zip_ref:\n",
        "    zip_ref.extractall()"
      ],
      "metadata": {
        "id": "pHVdpVFwZ1U6"
      },
      "execution_count": 3,
      "outputs": []
    },
    {
      "cell_type": "code",
      "source": [
        "import pandas as pd\n",
        "import re\n",
        "df = pd.read_csv('friends_quotes.csv')\n",
        "print(df.head())"
      ],
      "metadata": {
        "colab": {
          "base_uri": "https://localhost:8080/"
        },
        "id": "m4bKYaPGaGXl",
        "outputId": "77c7dd8f-c23e-45cb-87af-171ad1b6fb85"
      },
      "execution_count": 4,
      "outputs": [
        {
          "output_type": "stream",
          "name": "stdout",
          "text": [
            "     author  episode_number           episode_title  \\\n",
            "0    Monica             1.0  Monica Gets A Roommate   \n",
            "1      Joey             1.0  Monica Gets A Roommate   \n",
            "2  Chandler             1.0  Monica Gets A Roommate   \n",
            "3    Phoebe             1.0  Monica Gets A Roommate   \n",
            "4    Phoebe             1.0  Monica Gets A Roommate   \n",
            "\n",
            "                                               quote  quote_order  season  \n",
            "0  There's nothing to tell! He's just some guy I ...          0.0     1.0  \n",
            "1  C'mon, you're going out with the guy! There's ...          1.0     1.0  \n",
            "2  All right Joey, be nice. So does he have a hum...          2.0     1.0  \n",
            "3                           Wait, does he eat chalk?          3.0     1.0  \n",
            "4  Just, 'cause, I don't want her to go through w...          4.0     1.0  \n"
          ]
        }
      ]
    },
    {
      "cell_type": "code",
      "source": [
        "print(\" \\n \".join(list((df.iloc[0:4][\"author\"] + \": \" + df.iloc[0:4][\"quote\"]).values)))"
      ],
      "metadata": {
        "colab": {
          "base_uri": "https://localhost:8080/"
        },
        "id": "vYRYoC-GcCU7",
        "outputId": "c16995b4-8e33-424e-c5f0-5b01810d88c6"
      },
      "execution_count": 5,
      "outputs": [
        {
          "output_type": "stream",
          "name": "stdout",
          "text": [
            "Monica: There's nothing to tell! He's just some guy I work with! \n",
            " Joey: C'mon, you're going out with the guy! There's gotta be something wrong with him! \n",
            " Chandler: All right Joey, be nice. So does he have a hump? A hump and a hairpiece? \n",
            " Phoebe: Wait, does he eat chalk?\n"
          ]
        }
      ]
    },
    {
      "cell_type": "markdown",
      "source": [
        "### Extract pairs of previous dialogue and current dialogue"
      ],
      "metadata": {
        "id": "mocTAd8mtrWa"
      }
    },
    {
      "cell_type": "code",
      "source": [
        "num_prev_dialogues = 15\n",
        "df_prev_dialogues = pd.DataFrame(columns=[\"prev_dialogues\", \"current_dialogue\"])\n",
        "num_words = 0\n",
        "new_scene_start_idx = 0\n",
        "prev_episode_id = 1\n",
        "\n",
        "for i in range(len(df)):\n",
        "  #print(i)\n",
        "  curr_episode_id = int(df.iloc[i][\"episode_number\"])\n",
        "\n",
        "  # Don't use context from previous episode, start from this dialog\n",
        "  if curr_episode_id != prev_episode_id:\n",
        "    new_scene_start_idx = i\n",
        "\n",
        "  # Don't use context from previous scene, start from this dialog\n",
        "  if \"Scene\" in df.iloc[i][\"quote\"]:\n",
        "    new_scene_start_idx = i + 1\n",
        "\n",
        "  if df.iloc[i][\"author\"] == \"Chandler\":\n",
        "    current_dialog_num = i #int(df.iloc[i][\"quote_order\"])\n",
        "    current_dialog = df.iloc[i][\"quote\"]\n",
        "\n",
        "    #prev_dialogues_range = [max(0, i - num_prev_dialogues) : current_dialog_num]\n",
        "    prev_dialogues = \" \\n \".join(list((df.iloc[max(new_scene_start_idx, current_dialog_num - num_prev_dialogues) : current_dialog_num][\"author\"] + \": \" + df.iloc[max(new_scene_start_idx, current_dialog_num - num_prev_dialogues) : current_dialog_num][\"quote\"]).values))\n",
        "    prev_dialogues = re.sub(\"\\(.*\\)\",\"\", prev_dialogues)\n",
        "    current_dialog = re.sub(\"\\(.*\\)\",\"\", current_dialog)\n",
        "\n",
        "    df_prev_dialogues.loc[i] = [prev_dialogues, current_dialog]\n",
        "    num_words += len(prev_dialogues.split(\" \"))\n",
        "\n",
        "  prev_episode_id = curr_episode_id\n",
        "\n",
        "df_prev_dialogues.reset_index(inplace=True)\n",
        "df_prev_dialogues.drop('index', axis=1, inplace=True)\n",
        "df_prev_dialogues.head(2)"
      ],
      "metadata": {
        "colab": {
          "base_uri": "https://localhost:8080/",
          "height": 147
        },
        "collapsed": true,
        "id": "568tEBhYahIq",
        "outputId": "09b72af2-d567-4327-f502-e3877fd41775"
      },
      "execution_count": 29,
      "outputs": [
        {
          "output_type": "execute_result",
          "data": {
            "text/plain": [
              "   index                                     prev_dialogues  \\\n",
              "0      2  Monica: There's nothing to tell! He's just som...   \n",
              "1      6  Monica: There's nothing to tell! He's just som...   \n",
              "\n",
              "                                    current_dialogue  \n",
              "0  All right Joey, be nice. So does he have a hum...  \n",
              "1                          Sounds like a date to me.  "
            ],
            "text/html": [
              "\n",
              "  <div id=\"df-acc7d2cd-9405-49b9-953a-2286e9e8f224\" class=\"colab-df-container\">\n",
              "    <div>\n",
              "<style scoped>\n",
              "    .dataframe tbody tr th:only-of-type {\n",
              "        vertical-align: middle;\n",
              "    }\n",
              "\n",
              "    .dataframe tbody tr th {\n",
              "        vertical-align: top;\n",
              "    }\n",
              "\n",
              "    .dataframe thead th {\n",
              "        text-align: right;\n",
              "    }\n",
              "</style>\n",
              "<table border=\"1\" class=\"dataframe\">\n",
              "  <thead>\n",
              "    <tr style=\"text-align: right;\">\n",
              "      <th></th>\n",
              "      <th>index</th>\n",
              "      <th>prev_dialogues</th>\n",
              "      <th>current_dialogue</th>\n",
              "    </tr>\n",
              "  </thead>\n",
              "  <tbody>\n",
              "    <tr>\n",
              "      <th>0</th>\n",
              "      <td>2</td>\n",
              "      <td>Monica: There's nothing to tell! He's just som...</td>\n",
              "      <td>All right Joey, be nice. So does he have a hum...</td>\n",
              "    </tr>\n",
              "    <tr>\n",
              "      <th>1</th>\n",
              "      <td>6</td>\n",
              "      <td>Monica: There's nothing to tell! He's just som...</td>\n",
              "      <td>Sounds like a date to me.</td>\n",
              "    </tr>\n",
              "  </tbody>\n",
              "</table>\n",
              "</div>\n",
              "    <div class=\"colab-df-buttons\">\n",
              "\n",
              "  <div class=\"colab-df-container\">\n",
              "    <button class=\"colab-df-convert\" onclick=\"convertToInteractive('df-acc7d2cd-9405-49b9-953a-2286e9e8f224')\"\n",
              "            title=\"Convert this dataframe to an interactive table.\"\n",
              "            style=\"display:none;\">\n",
              "\n",
              "  <svg xmlns=\"http://www.w3.org/2000/svg\" height=\"24px\" viewBox=\"0 -960 960 960\">\n",
              "    <path d=\"M120-120v-720h720v720H120Zm60-500h600v-160H180v160Zm220 220h160v-160H400v160Zm0 220h160v-160H400v160ZM180-400h160v-160H180v160Zm440 0h160v-160H620v160ZM180-180h160v-160H180v160Zm440 0h160v-160H620v160Z\"/>\n",
              "  </svg>\n",
              "    </button>\n",
              "\n",
              "  <style>\n",
              "    .colab-df-container {\n",
              "      display:flex;\n",
              "      gap: 12px;\n",
              "    }\n",
              "\n",
              "    .colab-df-convert {\n",
              "      background-color: #E8F0FE;\n",
              "      border: none;\n",
              "      border-radius: 50%;\n",
              "      cursor: pointer;\n",
              "      display: none;\n",
              "      fill: #1967D2;\n",
              "      height: 32px;\n",
              "      padding: 0 0 0 0;\n",
              "      width: 32px;\n",
              "    }\n",
              "\n",
              "    .colab-df-convert:hover {\n",
              "      background-color: #E2EBFA;\n",
              "      box-shadow: 0px 1px 2px rgba(60, 64, 67, 0.3), 0px 1px 3px 1px rgba(60, 64, 67, 0.15);\n",
              "      fill: #174EA6;\n",
              "    }\n",
              "\n",
              "    .colab-df-buttons div {\n",
              "      margin-bottom: 4px;\n",
              "    }\n",
              "\n",
              "    [theme=dark] .colab-df-convert {\n",
              "      background-color: #3B4455;\n",
              "      fill: #D2E3FC;\n",
              "    }\n",
              "\n",
              "    [theme=dark] .colab-df-convert:hover {\n",
              "      background-color: #434B5C;\n",
              "      box-shadow: 0px 1px 3px 1px rgba(0, 0, 0, 0.15);\n",
              "      filter: drop-shadow(0px 1px 2px rgba(0, 0, 0, 0.3));\n",
              "      fill: #FFFFFF;\n",
              "    }\n",
              "  </style>\n",
              "\n",
              "    <script>\n",
              "      const buttonEl =\n",
              "        document.querySelector('#df-acc7d2cd-9405-49b9-953a-2286e9e8f224 button.colab-df-convert');\n",
              "      buttonEl.style.display =\n",
              "        google.colab.kernel.accessAllowed ? 'block' : 'none';\n",
              "\n",
              "      async function convertToInteractive(key) {\n",
              "        const element = document.querySelector('#df-acc7d2cd-9405-49b9-953a-2286e9e8f224');\n",
              "        const dataTable =\n",
              "          await google.colab.kernel.invokeFunction('convertToInteractive',\n",
              "                                                    [key], {});\n",
              "        if (!dataTable) return;\n",
              "\n",
              "        const docLinkHtml = 'Like what you see? Visit the ' +\n",
              "          '<a target=\"_blank\" href=https://colab.research.google.com/notebooks/data_table.ipynb>data table notebook</a>'\n",
              "          + ' to learn more about interactive tables.';\n",
              "        element.innerHTML = '';\n",
              "        dataTable['output_type'] = 'display_data';\n",
              "        await google.colab.output.renderOutput(dataTable, element);\n",
              "        const docLink = document.createElement('div');\n",
              "        docLink.innerHTML = docLinkHtml;\n",
              "        element.appendChild(docLink);\n",
              "      }\n",
              "    </script>\n",
              "  </div>\n",
              "\n",
              "\n",
              "<div id=\"df-7b0496c5-c336-46db-92c7-7ff96ac7f555\">\n",
              "  <button class=\"colab-df-quickchart\" onclick=\"quickchart('df-7b0496c5-c336-46db-92c7-7ff96ac7f555')\"\n",
              "            title=\"Suggest charts\"\n",
              "            style=\"display:none;\">\n",
              "\n",
              "<svg xmlns=\"http://www.w3.org/2000/svg\" height=\"24px\"viewBox=\"0 0 24 24\"\n",
              "     width=\"24px\">\n",
              "    <g>\n",
              "        <path d=\"M19 3H5c-1.1 0-2 .9-2 2v14c0 1.1.9 2 2 2h14c1.1 0 2-.9 2-2V5c0-1.1-.9-2-2-2zM9 17H7v-7h2v7zm4 0h-2V7h2v10zm4 0h-2v-4h2v4z\"/>\n",
              "    </g>\n",
              "</svg>\n",
              "  </button>\n",
              "\n",
              "<style>\n",
              "  .colab-df-quickchart {\n",
              "      --bg-color: #E8F0FE;\n",
              "      --fill-color: #1967D2;\n",
              "      --hover-bg-color: #E2EBFA;\n",
              "      --hover-fill-color: #174EA6;\n",
              "      --disabled-fill-color: #AAA;\n",
              "      --disabled-bg-color: #DDD;\n",
              "  }\n",
              "\n",
              "  [theme=dark] .colab-df-quickchart {\n",
              "      --bg-color: #3B4455;\n",
              "      --fill-color: #D2E3FC;\n",
              "      --hover-bg-color: #434B5C;\n",
              "      --hover-fill-color: #FFFFFF;\n",
              "      --disabled-bg-color: #3B4455;\n",
              "      --disabled-fill-color: #666;\n",
              "  }\n",
              "\n",
              "  .colab-df-quickchart {\n",
              "    background-color: var(--bg-color);\n",
              "    border: none;\n",
              "    border-radius: 50%;\n",
              "    cursor: pointer;\n",
              "    display: none;\n",
              "    fill: var(--fill-color);\n",
              "    height: 32px;\n",
              "    padding: 0;\n",
              "    width: 32px;\n",
              "  }\n",
              "\n",
              "  .colab-df-quickchart:hover {\n",
              "    background-color: var(--hover-bg-color);\n",
              "    box-shadow: 0 1px 2px rgba(60, 64, 67, 0.3), 0 1px 3px 1px rgba(60, 64, 67, 0.15);\n",
              "    fill: var(--button-hover-fill-color);\n",
              "  }\n",
              "\n",
              "  .colab-df-quickchart-complete:disabled,\n",
              "  .colab-df-quickchart-complete:disabled:hover {\n",
              "    background-color: var(--disabled-bg-color);\n",
              "    fill: var(--disabled-fill-color);\n",
              "    box-shadow: none;\n",
              "  }\n",
              "\n",
              "  .colab-df-spinner {\n",
              "    border: 2px solid var(--fill-color);\n",
              "    border-color: transparent;\n",
              "    border-bottom-color: var(--fill-color);\n",
              "    animation:\n",
              "      spin 1s steps(1) infinite;\n",
              "  }\n",
              "\n",
              "  @keyframes spin {\n",
              "    0% {\n",
              "      border-color: transparent;\n",
              "      border-bottom-color: var(--fill-color);\n",
              "      border-left-color: var(--fill-color);\n",
              "    }\n",
              "    20% {\n",
              "      border-color: transparent;\n",
              "      border-left-color: var(--fill-color);\n",
              "      border-top-color: var(--fill-color);\n",
              "    }\n",
              "    30% {\n",
              "      border-color: transparent;\n",
              "      border-left-color: var(--fill-color);\n",
              "      border-top-color: var(--fill-color);\n",
              "      border-right-color: var(--fill-color);\n",
              "    }\n",
              "    40% {\n",
              "      border-color: transparent;\n",
              "      border-right-color: var(--fill-color);\n",
              "      border-top-color: var(--fill-color);\n",
              "    }\n",
              "    60% {\n",
              "      border-color: transparent;\n",
              "      border-right-color: var(--fill-color);\n",
              "    }\n",
              "    80% {\n",
              "      border-color: transparent;\n",
              "      border-right-color: var(--fill-color);\n",
              "      border-bottom-color: var(--fill-color);\n",
              "    }\n",
              "    90% {\n",
              "      border-color: transparent;\n",
              "      border-bottom-color: var(--fill-color);\n",
              "    }\n",
              "  }\n",
              "</style>\n",
              "\n",
              "  <script>\n",
              "    async function quickchart(key) {\n",
              "      const quickchartButtonEl =\n",
              "        document.querySelector('#' + key + ' button');\n",
              "      quickchartButtonEl.disabled = true;  // To prevent multiple clicks.\n",
              "      quickchartButtonEl.classList.add('colab-df-spinner');\n",
              "      try {\n",
              "        const charts = await google.colab.kernel.invokeFunction(\n",
              "            'suggestCharts', [key], {});\n",
              "      } catch (error) {\n",
              "        console.error('Error during call to suggestCharts:', error);\n",
              "      }\n",
              "      quickchartButtonEl.classList.remove('colab-df-spinner');\n",
              "      quickchartButtonEl.classList.add('colab-df-quickchart-complete');\n",
              "    }\n",
              "    (() => {\n",
              "      let quickchartButtonEl =\n",
              "        document.querySelector('#df-7b0496c5-c336-46db-92c7-7ff96ac7f555 button');\n",
              "      quickchartButtonEl.style.display =\n",
              "        google.colab.kernel.accessAllowed ? 'block' : 'none';\n",
              "    })();\n",
              "  </script>\n",
              "</div>\n",
              "\n",
              "    </div>\n",
              "  </div>\n"
            ],
            "application/vnd.google.colaboratory.intrinsic+json": {
              "type": "dataframe",
              "variable_name": "df_prev_dialogues",
              "summary": "{\n  \"name\": \"df_prev_dialogues\",\n  \"rows\": 7488,\n  \"fields\": [\n    {\n      \"column\": \"index\",\n      \"properties\": {\n        \"dtype\": \"number\",\n        \"std\": 16505,\n        \"min\": 2,\n        \"max\": 60290,\n        \"num_unique_values\": 7488,\n        \"samples\": [\n          25768,\n          25987,\n          20848\n        ],\n        \"semantic_type\": \"\",\n        \"description\": \"\"\n      }\n    },\n    {\n      \"column\": \"prev_dialogues\",\n      \"properties\": {\n        \"dtype\": \"string\",\n        \"num_unique_values\": 7478,\n        \"samples\": [\n          \"Rachel: What? Who the hell is Emily\\u0097 noooo!! \\n Rachel: They\\u0092re in Vermont!! How could this happen?!  \\n Chandler: Ow! \\n Rachel: How\\u0097how did end up in Vermont with that awful witch?!  \\n Chandler: Maybe, she doesn\\u0092t hit him all the time. \\n Ross: When we first met her, she was soaking, her feet were wet! Who wouldn\\u0092t be miserable? I\\u0092m telling you when I got her into a dry pair of shoes, she was a totally different person. \\n Emily:  Ross! Come quickly! There\\u0092s a deer just outside eating fruit from the orchard! \\n Ross: I\\u0092ve gotta go, there\\u0092s a deer just outside eating fruit from the orchard!  \\n Monica: He had to go, there\\u0092s a deer just outside eating fruit from the orchard. \\n Rachel: I don\\u0092t get this! She was horrible!  \\n Chandler: Okay, I\\u0092m going to go stand over there.  \\n Monica: Why do you care so much anyway? \\n Rachel: I don\\u0092t care! All right, y\\u0092know what I\\u0092m just upset that I\\u0092m getting nowhere with Joshua that\\u0097y\\u0092know what still, you do not meet someone and go flitting off to Vermont! \\n Monica: Well, when you first met Barry, you flitted off to Vail. \\n Rachel: Oh, y\\u0092know, would you just for once, not remember every\\u0085little\\u0085thing!! \",\n          \"Ross: Yes but too me he's just, man. \\n Steve: Okay, fine, whatever. Welcome to the building.  \\n Ross:  Ugh, can you believe that guy! \\n Phoebe: Yeah. I really like his glasses. \\n Ross: so then President Steve told everyone that I was a cheapskate, and now the whole building hates me! A little kid spit on my knee! Y'know what I'm gonna do? I'm gonna throw a party. That's right. For everyone in the building, and I'm gonna sit them down and explain to them, I am not a bad guy. I am not a cheap guy! I'm just a guy who-who stands up for what he believes in. A man with principles. \\n Chandler:  Sounds like a fun party. \\n Rachel: Hmm. Look, Ross, if you want your neighbors to like you, why don't you just pay the hundred bucks? The party's gonna cost you way more than that. \\n Ross: It doesn't matter! It's my principles! We're talking about my principles! \\n Rachel: Okay, I thought it was about your neighbors liking you. \\n Ross: Oh, they'll like me. Once they come to my awesome PAR-TAY! Okay, I gotta run. I gotta go get some nametags.  \\n Rachel: And that crazy party animal will be your brother-in-law. \\n Chandler: Very, very funny, but don't say things like that in front of Monica. I don't want you putting any ideas in her head. \\n Rachel: Umm, Chandler, you do realize that those ideas are probably already in Monica's head. \\n Chandler: Wh-wh-why?! \\n Rachel: Well, because she loves you and because you love her.\",\n          \"Pete: I\\u0092m fine! I\\u0092d fight tonight, if they\\u0092d let me.  See this circle I\\u0092m marking off here? This is my zone of terror. \\n Monica: You are insane! You-you gotta give this up! \\n Pete: I can\\u0092t until I\\u0092m the ultimate fighter. I will do it. I\\u0092m telling you, the day will come when children will argue over who will win a fight, me or Superman. Now, I\\u0092m not saying I could beat Superman, but y'know, kids are stupid. \\n Monica: Sit down. All right? Please, just listen to me. You are terrible at this! Okay? You are the worst ultimate fighter ever! Ever!! \\n Pete: Y'know I have a torn rotator cuff, a hairline fracture in my right forearm, and a severely bruised Adam\\u0092s Apple, but that really hurt. \\n Monica: Well then, y'know what? I care about you to much to watch you hurt yourself like this. So if you have to do this, then you\\u0092re gonna have to do it without me. \\n Pete: Well if you\\u0092re asking me to quit, then you\\u0092re asking me to be someone I\\u0092m not. I\\u0092ve got to do this. \\n Monica: Then I\\u0092ve gotta go. Bye.  \\n Pete: Mon-Monica? \\n Monica: Yes? \\n Pete: Could you leave a note? \\u0091Cause I\\u0092m on a lot of pain killers now, and I don\\u0092t know if I\\u0092ll remember this tomorrow.  \\n Doug: So, in conclusion, the lines all go up  \\n Chandler: Thank you, sir. \\n Stevens:  Oh, excuse me. I forgot my briefcase y'know, by accident. \\n Doug: Of course, you did. Forgot something else too ya bastard!  Well, what about you? You\\u0092re not feeling left out or anything are ya?\"\n        ],\n        \"semantic_type\": \"\",\n        \"description\": \"\"\n      }\n    },\n    {\n      \"column\": \"current_dialogue\",\n      \"properties\": {\n        \"dtype\": \"string\",\n        \"num_unique_values\": 6678,\n        \"samples\": [\n          \"I don\\u0092t have anything against the beautiful guest room, especially since everybody we know lives about 30 seconds away!\",\n          \"But I love swing music!\",\n          \"Apparently my sperm have low motility and you have an inhospitable environment.\"\n        ],\n        \"semantic_type\": \"\",\n        \"description\": \"\"\n      }\n    }\n  ]\n}"
            }
          },
          "metadata": {},
          "execution_count": 29
        }
      ]
    },
    {
      "cell_type": "code",
      "source": [
        "print(f\"Number of words in context dialogues: {num_words}\")\n",
        "print(f\"Number of Chandler dialogues: {len(df_prev_dialogues)}\")\n",
        "\n",
        "content_system = \"\"\"You are given a few dialogues from the famous TV sitcom FRIENDS. You have two tasks. First, you have to summarize the dialogues into context without any names of characters. Second, you have to then write a dialogue as an appropriate response to the given context, the dialogue should be in the style of Chandler Bing, one of the characters from FRIENDS. Keep in mind that Chandler Bing’s humor is marked by a unique blend of sarcasm, self-deprecation, and quick wit. He tends to make jokes that deflect serious or emotional moments, often using his dry, sarcastic tone.  His style is heavily reliant on irony, often delivering punchlines that are deliberately over-the-top or nonsensical. Extract these two things and return them in JSON format.\"\"\"\n",
        "num_words_content_message = len(content_system.split(\" \")) * len(df_prev_dialogues)\n",
        "print(f\"Number of words to batch input: {num_words + num_words_content_message}\")"
      ],
      "metadata": {
        "colab": {
          "base_uri": "https://localhost:8080/"
        },
        "id": "BUQfvFoKtrsg",
        "outputId": "0eb0b4e6-848d-48cb-d6a1-18f4746302bf"
      },
      "execution_count": 33,
      "outputs": [
        {
          "output_type": "stream",
          "name": "stdout",
          "text": [
            "Number of words in context dialogues: 1327763\n",
            "Number of Chandler dialogues: 7488\n",
            "Number of words to batch input: 2263763\n"
          ]
        }
      ]
    },
    {
      "cell_type": "markdown",
      "source": [
        "### Write data in OpenAI Batch API file format\n"
      ],
      "metadata": {
        "id": "1xgXwIojtjL7"
      }
    },
    {
      "cell_type": "code",
      "source": [
        "# OpenAI Batch API file format\n",
        "{\"custom_id\": \"request-1\", \"method\": \"POST\", \"url\": \"/v1/chat/completions\", \"body\": {\"model\": \"gpt-3.5-turbo-0125\", \"messages\": [{\"role\": \"system\", \"content\": \"You are a helpful assistant.\"},{\"role\": \"user\", \"content\": \"Hello world!\"}],\"max_tokens\": 1000}}"
      ],
      "metadata": {
        "colab": {
          "base_uri": "https://localhost:8080/"
        },
        "id": "0ejYkV_LZ0hf",
        "outputId": "e44a0057-bd56-4ca0-d0e3-ebdd3898201f"
      },
      "execution_count": 36,
      "outputs": [
        {
          "output_type": "execute_result",
          "data": {
            "text/plain": [
              "{'custom_id': 'request-1',\n",
              " 'method': 'POST',\n",
              " 'url': '/v1/chat/completions',\n",
              " 'body': {'model': 'gpt-3.5-turbo-0125',\n",
              "  'messages': [{'role': 'system', 'content': 'You are a helpful assistant.'},\n",
              "   {'role': 'user', 'content': 'Hello world!'}],\n",
              "  'max_tokens': 1000}}"
            ]
          },
          "metadata": {},
          "execution_count": 36
        }
      ]
    },
    {
      "cell_type": "code",
      "source": [
        "custom_id = 0\n",
        "df_batch_input = pd.DataFrame(columns=[\"custom_id\", \"method\", \"url\", \"body\"])\n",
        "content_system = \"\"\"You are given a few dialogues from the famous TV sitcom FRIENDS. You have two tasks. First, you have to summarize the dialogues into context without any names of characters. Second, you have to then write a dialogue as an appropriate response to the given context, the dialogue should be in the style of Chandler Bing, one of the characters from FRIENDS. Keep in mind that Chandler Bing’s humor is marked by a unique blend of sarcasm, self-deprecation, and quick wit. He tends to make jokes that deflect serious or emotional moments, often using his dry, sarcastic tone.  His style is heavily reliant on irony, often delivering punchlines that are deliberately over-the-top or nonsensical. Extract these two things and return them in JSON format.\"\"\"\n",
        "\n",
        "\n",
        "for i in range(len(df_prev_dialogues)):\n",
        "  custom_id_str = \"friends-\" + str(custom_id)\n",
        "  body = {}\n",
        "  body[\"model\"] = \"gpt-4o-mini\"\n",
        "\n",
        "  messages = []\n",
        "  message_system = {}\n",
        "  message_system[\"role\"] = \"system\"\n",
        "  message_system[\"content\"] = content_system\n",
        "\n",
        "  message_user = {}\n",
        "  message_user[\"role\"] = \"user\"\n",
        "  message_user[\"content\"] = df_prev_dialogues.iloc[i][\"prev_dialogues\"]\n",
        "\n",
        "  messages.append(message_system)\n",
        "  messages.append(message_user)\n",
        "  body[\"messages\"] = messages\n",
        "\n",
        "  body[\"max_tokens\"] = 500\n",
        "\n",
        "  df_batch_input.loc[i] = [custom_id_str, \"POST\", \"/v1/chat/completions\", body]\n",
        "  custom_id += 1"
      ],
      "metadata": {
        "id": "ga2V_dIZaWwA"
      },
      "execution_count": 34,
      "outputs": []
    },
    {
      "cell_type": "code",
      "source": [
        "import json\n",
        "# Convert DataFrame to JSONL (this will escape forward slashes)\n",
        "#df_batch_input.to_json('output.jsonl', orient='records', lines=True)\n",
        "\n",
        "# Convert to JSON string without escaping forward slashes\n",
        "#json_str = json.dumps(df_batch_input.to_dict(orient='records'), ensure_ascii=False).encode('utf8')\n",
        "#batch_data = json.loads(json_str)\n",
        "batch_data = df_batch_input.to_dict(orient='records')\n",
        "\n",
        "# Write to a JSONL file\n",
        "with open(\"batch_file_friends.jsonl\", \"w\", encoding=\"utf-8\") as f:\n",
        "    for i, line in enumerate(batch_data):\n",
        "        json.dump(line, f, ensure_ascii=False)  # Serialize dict as JSON\n",
        "        if i != len(batch_data) - 1: f.write(\"\\n\")  # Newline for JSONL format"
      ],
      "metadata": {
        "id": "Fdoup5hpRJzs"
      },
      "execution_count": 35,
      "outputs": []
    },
    {
      "cell_type": "markdown",
      "source": [
        "### Get chat completions from OpenAI API"
      ],
      "metadata": {
        "id": "w81pGPd3tY_C"
      }
    },
    {
      "cell_type": "code",
      "source": [
        "import getpass\n",
        "import os\n",
        "\n",
        "if not os.environ.get(\"OPENAI_API_KEY\"):\n",
        "    os.environ[\"OPENAI_API_KEY\"] = getpass.getpass(\"Enter your OpenAI API key: \")"
      ],
      "metadata": {
        "colab": {
          "base_uri": "https://localhost:8080/"
        },
        "id": "E7-lfC_bz2aB",
        "outputId": "d9ff5731-c4da-45bd-a816-03baf9224447"
      },
      "execution_count": null,
      "outputs": [
        {
          "name": "stdout",
          "output_type": "stream",
          "text": [
            "Enter your OpenAI API key: ··········\n"
          ]
        }
      ]
    },
    {
      "cell_type": "code",
      "source": [
        "from openai import OpenAI\n",
        "from pydantic import BaseModel\n",
        "\n",
        "client = OpenAI()\n",
        "\n",
        "class ContextDialogue(BaseModel):\n",
        "    context: str\n",
        "    dialog: str"
      ],
      "metadata": {
        "id": "2RL6w-2G1ko2"
      },
      "execution_count": null,
      "outputs": []
    },
    {
      "cell_type": "code",
      "source": [
        "#response = client.chat.completions.create(\n",
        "response = client.beta.chat.completions.parse(\n",
        "    model=\"gpt-4o-mini\",\n",
        "    messages=[\n",
        "        {\n",
        "            \"role\": \"developer\",\n",
        "            \"content\": \"\"\"You are given a few dialogues from the famous TV sitcom FRIENDS. You have two tasks.\n",
        "                          First, you have to summarize the dialogues into context without any names of characters.\n",
        "                          Second, you have to then write a dialogue as an appropriate response to the given context,\n",
        "                          the dialogue should be in the style of Chandler Bing, one of the characters from FRIENDS.\n",
        "                          Keep in mind that Chandler Bing’s humor is marked by a unique blend of sarcasm, self-deprecation, and quick wit.\n",
        "                          He tends to make jokes that deflect serious or emotional moments, often using his dry, sarcastic tone.\n",
        "                          His style is heavily reliant on irony, often delivering punchlines that are deliberately over-the-top or nonsensical.\n",
        "                          Extract these two things and return them in JSON format.\"\"\"\n",
        "        },\n",
        "        {\n",
        "            \"role\": \"user\",\n",
        "            \"content\": \"\"\"Phoebe: Ooh! Oh!  \\n Ross: No, no don\\'t! Stop cleansing my aura! No, just leave my aura alone, okay? \\n Phoebe: Fine! Be murky! \\n Ross: I\\'ll be fine, alright? Really, everyone. I hope she\\'ll be very happy. \\n Monica: No you don\\'t. \\n Ross: No I don\\'t, to hell with her, she left me! \\n Joey: And you never knew she was a lesbian... \\n Ross: No!! Okay?! Why does everyone keep fixating on that? She didn\\'t know, how should I know? \\n Chandler: Sometimes I wish I was a lesbian...  Did I say that out loud? \\n Ross: I told mom and dad last night, they seemed to take it pretty well. \\n Monica: Oh really, so that hysterical phone call I got from a woman at sobbing 3:00 A.M., \"I\\'ll never have grandchildren, I\\'ll never have grandchildren.\" was what? A wrong number? \\n Ross: Sorry. \\n Joey: Alright Ross, look. You\\'re feeling a lot of pain right now. You\\'re angry. You\\'re hurting. Can I tell you what the answer is? \\n Joey: Strip joint! C\\'mon, you\\'re single! Have some hormones! \\n Ross:\"\"\"\n",
        "        }\n",
        "    ],\n",
        "    response_format=ContextDialogue,\n",
        ")\n",
        "\n",
        "print(response.choices[0].message.content);"
      ],
      "metadata": {
        "colab": {
          "base_uri": "https://localhost:8080/"
        },
        "id": "gGoFNzQU1NP0",
        "outputId": "ce2c913f-77bd-4271-e346-c9a87ec86cf8"
      },
      "execution_count": null,
      "outputs": [
        {
          "output_type": "stream",
          "name": "stdout",
          "text": [
            "{\"context\":\"A character is upset about a breakup, feeling angry and hurt, while others offer mixed responses ranging from sarcastic quips to genuine concern. Some attempt to comfort him while others make jokes about his situation, leading to a humorous yet awkward moment.\",\"dialog\":\"Could we have a little less aura and a little more chips and guac? I mean, if we're cleansing anything, let's cleanse the tacos, am I right?\"}\n"
          ]
        }
      ]
    },
    {
      "cell_type": "code",
      "source": [
        "import json\n",
        "json.loads(response.choices[0].message.content)"
      ],
      "metadata": {
        "colab": {
          "base_uri": "https://localhost:8080/"
        },
        "id": "geW5CUemMcxP",
        "outputId": "c971821e-c46a-49c3-d2f2-56ee7e3ab30e"
      },
      "execution_count": null,
      "outputs": [
        {
          "output_type": "execute_result",
          "data": {
            "text/plain": [
              "{'context': \"In this scene, a group of friends is dealing with the aftermath of one friend's recent breakup. One friend is attempting to cleanse another friend's aura, but he insists on being left alone. Throughout the conversation, they discuss feelings of anger and sadness related to the breakup, while a couple of the friends poke fun by offering sarcastic or outrageous suggestions on how to cope with the situation, like going to a strip joint. Additionally, there's humor derived from one friend's unexpected and humorous desire to be part of the LGBTQ+ community.\",\n",
              " 'dialog': \"Could I BE any more heartbroken? I mean, why go to a strip joint when I can just gather my friends and wallow in self-pity while eating an entire pizza by myself? That's practically a family tradition!\"}"
            ]
          },
          "metadata": {},
          "execution_count": 21
        }
      ]
    },
    {
      "cell_type": "code",
      "source": [
        "json.loads(response.choices[0].message.content)"
      ],
      "metadata": {
        "colab": {
          "base_uri": "https://localhost:8080/"
        },
        "id": "NKjjnJRbQUAr",
        "outputId": "11615a6d-c597-4089-ccef-4dee6636ae35"
      },
      "execution_count": null,
      "outputs": [
        {
          "output_type": "execute_result",
          "data": {
            "text/plain": [
              "{'context': \"There is a conversation where one is experiencing emotional distress after a breakup. Another person playfully tries to cleanse their aura, while others express skepticism about their well-being. There's a mention of confusion regarding a partner's sexuality leading to humorous moment, and one person reflects on family reactions to the breakup. Another suggests an unconventional way to cope with the pain of being single.\",\n",
              " 'dialog': \"Well, in times like these, I often find that the best cure for a broken heart is a combination of ice cream, self-pity, and, of course, that delightful little fling known as denial. Have you tried the denial? It's delightful, seriously!\"}"
            ]
          },
          "metadata": {},
          "execution_count": 23
        }
      ]
    },
    {
      "cell_type": "code",
      "source": [
        "json.loads(response.choices[0].message.content)"
      ],
      "metadata": {
        "colab": {
          "base_uri": "https://localhost:8080/"
        },
        "id": "tr_I_xBoTBbX",
        "outputId": "f67a2a98-c60b-4aa3-cad5-d73530ade89a"
      },
      "execution_count": null,
      "outputs": [
        {
          "output_type": "execute_result",
          "data": {
            "text/plain": [
              "{'context': 'A character is upset about a breakup, feeling angry and hurt, while others offer mixed responses ranging from sarcastic quips to genuine concern. Some attempt to comfort him while others make jokes about his situation, leading to a humorous yet awkward moment.',\n",
              " 'dialog': \"Could we have a little less aura and a little more chips and guac? I mean, if we're cleansing anything, let's cleanse the tacos, am I right?\"}"
            ]
          },
          "metadata": {},
          "execution_count": 36
        }
      ]
    },
    {
      "cell_type": "code",
      "source": [],
      "metadata": {
        "id": "sgI7MG0WZR1q"
      },
      "execution_count": null,
      "outputs": []
    }
  ]
}